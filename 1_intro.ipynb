{
 "cells": [
  {
   "cell_type": "code",
   "execution_count": 39,
   "metadata": {},
   "outputs": [],
   "source": [
    "import random\n",
    "import sklearn.neural_network\n",
    "import numpy.random\n",
    "import ipywidgets"
   ]
  },
  {
   "cell_type": "code",
   "execution_count": 61,
   "metadata": {},
   "outputs": [],
   "source": [
    "def generate_data(N):\n",
    "    g = 8.9\n",
    "    \n",
    "    # If using Python's own random number generator\n",
    "#     Ts = [random.random() for _ in range(N)]\n",
    "#     Hs = [g*(t**2)/2 for t in Ts]\n",
    "\n",
    "    # If using Numpy random number generator\n",
    "    Ts = numpy.random.rand(N)\n",
    "    Hs = g*(Ts**2)/2\n",
    "    \n",
    "    return Ts, Hs\n",
    "\n",
    "Ts, Hs = generate_data(500)"
   ]
  },
  {
   "cell_type": "code",
   "execution_count": 87,
   "metadata": {},
   "outputs": [
    {
     "ename": "NameError",
     "evalue": "name 'max_iter' is not defined",
     "output_type": "error",
     "traceback": [
      "\u001b[0;31m---------------------------------------------------------------------------\u001b[0m",
      "\u001b[0;31mNameError\u001b[0m                                 Traceback (most recent call last)",
      "\u001b[0;32m<ipython-input-87-b51a47dfdf6b>\u001b[0m in \u001b[0;36m<module>\u001b[0;34m()\u001b[0m\n\u001b[1;32m     11\u001b[0m     \u001b[0;32mreturn\u001b[0m \u001b[0mscore\u001b[0m\u001b[0;34m\u001b[0m\u001b[0;34m\u001b[0m\u001b[0m\n\u001b[1;32m     12\u001b[0m \u001b[0;34m\u001b[0m\u001b[0m\n\u001b[0;32m---> 13\u001b[0;31m \u001b[0mtest_NN\u001b[0m\u001b[0;34m(\u001b[0m\u001b[0mTs\u001b[0m\u001b[0;34m,\u001b[0m \u001b[0mHs\u001b[0m\u001b[0;34m,\u001b[0m \u001b[0mmax_iter\u001b[0m\u001b[0;34m)\u001b[0m\u001b[0;34m\u001b[0m\u001b[0;34m\u001b[0m\u001b[0m\n\u001b[0m",
      "\u001b[0;31mNameError\u001b[0m: name 'max_iter' is not defined"
     ]
    }
   ],
   "source": [
    "def test_NN(Ts, Hs, max_iter=200):\n",
    "    NN = sklearn.neural_network.MLPRegressor(\n",
    "        hidden_layer_sizes=(4,4), \n",
    "        activation='tanh', \n",
    "        max_iter=max_iter\n",
    "        )\n",
    "    Ts = Ts.reshape(-1, 1) # learned from error\n",
    "    NN.fit(Ts, Hs)\n",
    "#     predictions = NN.predict(Ts)\n",
    "    score = NN.score(Ts, Hs)\n",
    "    return score\n",
    "    \n",
    "test_NN(Ts, Hs, max_iter)"
   ]
  },
  {
   "cell_type": "code",
   "execution_count": 89,
   "metadata": {},
   "outputs": [
    {
     "data": {
      "application/vnd.jupyter.widget-view+json": {
       "model_id": "440e263d2a8b427482683ae39b121dae"
      }
     },
     "metadata": {},
     "output_type": "display_data"
    },
    {
     "data": {
      "text/plain": [
       "<function __main__.test_NN>"
      ]
     },
     "execution_count": 89,
     "metadata": {},
     "output_type": "execute_result"
    }
   ],
   "source": [
    "ipywidgets.interact(\n",
    "    test_NN, \n",
    "    Ts=ipywidgets.fixed(Ts), \n",
    "    Hs=ipywidgets.fixed(Hs), \n",
    "    max_iter = ipywidgets.IntSlider(\n",
    "        min=50,\n",
    "        max=5000,\n",
    "        step=50,\n",
    "        description='Max # of iterations', \n",
    "        layout=ipywidgets.Layout(width='100%')\n",
    "        )\n",
    "#     max_iter=ipywidgets.SelectionSlider(\n",
    "#                description='max_iters',\n",
    "#                options = list(numpy.logspace(2, 4, 10).astype(int))\n",
    "#             )\n",
    "    )\n"
   ]
  },
  {
   "cell_type": "code",
   "execution_count": null,
   "metadata": {},
   "outputs": [],
   "source": []
  },
  {
   "cell_type": "code",
   "execution_count": null,
   "metadata": {},
   "outputs": [],
   "source": []
  },
  {
   "cell_type": "code",
   "execution_count": null,
   "metadata": {},
   "outputs": [],
   "source": []
  },
  {
   "cell_type": "code",
   "execution_count": null,
   "metadata": {},
   "outputs": [],
   "source": []
  }
 ],
 "metadata": {
  "kernelspec": {
   "display_name": "Python 3",
   "language": "python",
   "name": "python3"
  },
  "language_info": {
   "codemirror_mode": {
    "name": "ipython",
    "version": 3
   },
   "file_extension": ".py",
   "mimetype": "text/x-python",
   "name": "python",
   "nbconvert_exporter": "python",
   "pygments_lexer": "ipython3",
   "version": "3.6.9"
  }
 },
 "nbformat": 4,
 "nbformat_minor": 2
}
